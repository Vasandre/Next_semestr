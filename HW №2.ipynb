{
  "nbformat": 4,
  "nbformat_minor": 0,
  "metadata": {
    "colab": {
      "provenance": []
    },
    "kernelspec": {
      "name": "python3",
      "display_name": "Python 3"
    },
    "language_info": {
      "name": "python"
    }
  },
  "cells": [
    {
      "cell_type": "code",
      "source": [
        "import functools"
      ],
      "metadata": {
        "id": "TlR3Bjqp2oH2"
      },
      "execution_count": 1,
      "outputs": []
    },
    {
      "cell_type": "markdown",
      "source": [
        "# Задача №1\n",
        "Декоратор, проверяющий входные параметры функции. Если на вход подаётся аргумент, не являющийся числом, то выведется ошибка\n",
        "\n"
      ],
      "metadata": {
        "id": "gqbetnVU18wJ"
      }
    },
    {
      "cell_type": "code",
      "source": [
        "def is_digit(func):\n",
        "  @functools.wraps(func)\n",
        "  def inner(*args, **kwargs):\n",
        "\n",
        "    for el in (args + tuple(kwargs.values())):\n",
        "      if not isinstance(el, int):\n",
        "        raise Exception(\"Error\")\n",
        "\n",
        "    return func(*args, **kwargs)\n",
        "\n",
        "  return inner\n"
      ],
      "metadata": {
        "id": "pYEGO4kW2nFR"
      },
      "execution_count": 2,
      "outputs": []
    },
    {
      "cell_type": "code",
      "source": [
        "@is_digit\n",
        "def nums(*x):\n",
        "  return x"
      ],
      "metadata": {
        "id": "3CTmSWRF2PwF"
      },
      "execution_count": 3,
      "outputs": []
    },
    {
      "cell_type": "code",
      "source": [
        "nums(9, \"2\")"
      ],
      "metadata": {
        "colab": {
          "base_uri": "https://localhost:8080/",
          "height": 297
        },
        "id": "ho52F47M2iXP",
        "outputId": "345abbef-64d5-443a-c749-24eb541f2fcf"
      },
      "execution_count": 4,
      "outputs": [
        {
          "output_type": "error",
          "ename": "Exception",
          "evalue": "ignored",
          "traceback": [
            "\u001b[0;31m---------------------------------------------------------------------------\u001b[0m",
            "\u001b[0;31mException\u001b[0m                                 Traceback (most recent call last)",
            "\u001b[0;32m<ipython-input-4-3464207b2274>\u001b[0m in \u001b[0;36m<cell line: 1>\u001b[0;34m()\u001b[0m\n\u001b[0;32m----> 1\u001b[0;31m \u001b[0mnums\u001b[0m\u001b[0;34m(\u001b[0m\u001b[0;36m9\u001b[0m\u001b[0;34m,\u001b[0m \u001b[0;34m\"2\"\u001b[0m\u001b[0;34m)\u001b[0m\u001b[0;34m\u001b[0m\u001b[0;34m\u001b[0m\u001b[0m\n\u001b[0m",
            "\u001b[0;32m<ipython-input-2-c6f13935b9b4>\u001b[0m in \u001b[0;36minner\u001b[0;34m(*args, **kwargs)\u001b[0m\n\u001b[1;32m      5\u001b[0m     \u001b[0;32mfor\u001b[0m \u001b[0mel\u001b[0m \u001b[0;32min\u001b[0m \u001b[0;34m(\u001b[0m\u001b[0margs\u001b[0m \u001b[0;34m+\u001b[0m \u001b[0mtuple\u001b[0m\u001b[0;34m(\u001b[0m\u001b[0mkwargs\u001b[0m\u001b[0;34m.\u001b[0m\u001b[0mvalues\u001b[0m\u001b[0;34m(\u001b[0m\u001b[0;34m)\u001b[0m\u001b[0;34m)\u001b[0m\u001b[0;34m)\u001b[0m\u001b[0;34m:\u001b[0m\u001b[0;34m\u001b[0m\u001b[0;34m\u001b[0m\u001b[0m\n\u001b[1;32m      6\u001b[0m       \u001b[0;32mif\u001b[0m \u001b[0;32mnot\u001b[0m \u001b[0misinstance\u001b[0m\u001b[0;34m(\u001b[0m\u001b[0mel\u001b[0m\u001b[0;34m,\u001b[0m \u001b[0mint\u001b[0m\u001b[0;34m)\u001b[0m\u001b[0;34m:\u001b[0m\u001b[0;34m\u001b[0m\u001b[0;34m\u001b[0m\u001b[0m\n\u001b[0;32m----> 7\u001b[0;31m         \u001b[0;32mraise\u001b[0m \u001b[0mException\u001b[0m\u001b[0;34m(\u001b[0m\u001b[0;34m\"Error\"\u001b[0m\u001b[0;34m)\u001b[0m\u001b[0;34m\u001b[0m\u001b[0;34m\u001b[0m\u001b[0m\n\u001b[0m\u001b[1;32m      8\u001b[0m \u001b[0;34m\u001b[0m\u001b[0m\n\u001b[1;32m      9\u001b[0m     \u001b[0;32mreturn\u001b[0m \u001b[0mfunc\u001b[0m\u001b[0;34m(\u001b[0m\u001b[0;34m*\u001b[0m\u001b[0margs\u001b[0m\u001b[0;34m,\u001b[0m \u001b[0;34m**\u001b[0m\u001b[0mkwargs\u001b[0m\u001b[0;34m)\u001b[0m\u001b[0;34m\u001b[0m\u001b[0;34m\u001b[0m\u001b[0m\n",
            "\u001b[0;31mException\u001b[0m: Error"
          ]
        }
      ]
    },
    {
      "cell_type": "code",
      "source": [
        "nums(9, 10, 11)"
      ],
      "metadata": {
        "colab": {
          "base_uri": "https://localhost:8080/"
        },
        "id": "9d21hbMF26iQ",
        "outputId": "508dc924-a905-4719-b6bd-ace437a20c55"
      },
      "execution_count": 5,
      "outputs": [
        {
          "output_type": "execute_result",
          "data": {
            "text/plain": [
              "(9, 10, 11)"
            ]
          },
          "metadata": {},
          "execution_count": 5
        }
      ]
    },
    {
      "cell_type": "markdown",
      "source": [
        "# Задача №2\n",
        "Декоратор, который реализует класс одиночку Singleton"
      ],
      "metadata": {
        "id": "UJcLcN4n3NlE"
      }
    },
    {
      "cell_type": "code",
      "source": [
        "def Singleton(cls):\n",
        "\n",
        "  single_dict = {}\n",
        "  @functools.wraps(cls)\n",
        "\n",
        "  def inner(*args, **kwargs):\n",
        "\n",
        "    if cls not in single_dict:\n",
        "      single_dict[cls] = cls(*args, **kwargs)\n",
        "\n",
        "    return single_dict[cls]\n",
        "\n",
        "  return inner"
      ],
      "metadata": {
        "id": "gAeK5m6J29Gt"
      },
      "execution_count": 9,
      "outputs": []
    },
    {
      "cell_type": "code",
      "source": [
        "@Singleton\n",
        "class Parent:\n",
        "  def __init__(self, node):\n",
        "    self.node = node\n"
      ],
      "metadata": {
        "id": "o0HNb0585PrB"
      },
      "execution_count": 10,
      "outputs": []
    },
    {
      "cell_type": "code",
      "source": [
        "par = Parent(\"папа\")\n",
        "ser = Parent(\"папа\")"
      ],
      "metadata": {
        "id": "IPqYx4Aj5SLd"
      },
      "execution_count": 11,
      "outputs": []
    },
    {
      "cell_type": "code",
      "source": [
        "print(\"Object created\", par)\n",
        "print(\"Object created\", ser)"
      ],
      "metadata": {
        "colab": {
          "base_uri": "https://localhost:8080/"
        },
        "id": "defbe7XR5VlW",
        "outputId": "7ec3fcf9-2a60-4da5-e330-0b00360004a8"
      },
      "execution_count": 12,
      "outputs": [
        {
          "output_type": "stream",
          "name": "stdout",
          "text": [
            "Object created <__main__.Parent object at 0x7af190b2b910>\n",
            "Object created <__main__.Parent object at 0x7af190b2b910>\n"
          ]
        }
      ]
    },
    {
      "cell_type": "markdown",
      "source": [
        "# Задача №3\n",
        "Декоратор, который реализует мемоизацию"
      ],
      "metadata": {
        "id": "GPRGWcK85eyK"
      }
    },
    {
      "cell_type": "code",
      "source": [
        "def memo(func):\n",
        "  func_value = dict()\n",
        "\n",
        "  @functools.wraps(func)\n",
        "  def inner(*args, **kwargs):\n",
        "    keys = (args, tuple(sorted(kwargs.values())))\n",
        "\n",
        "    if keys not in func_value:\n",
        "      func_value[keys] = func(*args, **kwargs)\n",
        "\n",
        "    return func_value[keys]\n",
        "  return inner\n"
      ],
      "metadata": {
        "id": "m_T-Y0zS5cgN"
      },
      "execution_count": 16,
      "outputs": []
    },
    {
      "cell_type": "code",
      "source": [
        "@memo\n",
        "def fib(n):\n",
        "  if (n == 0) or (n == 1):\n",
        "    return 1\n",
        "  else:\n",
        "    return fib(n - 2) + fib(n - 1)"
      ],
      "metadata": {
        "id": "oHcsRir18R1q"
      },
      "execution_count": 17,
      "outputs": []
    },
    {
      "cell_type": "code",
      "source": [
        "fib(4)"
      ],
      "metadata": {
        "colab": {
          "base_uri": "https://localhost:8080/"
        },
        "id": "3USJNFyI8ToQ",
        "outputId": "d06c9274-e287-4014-99c8-1d64349753fa"
      },
      "execution_count": 18,
      "outputs": [
        {
          "output_type": "execute_result",
          "data": {
            "text/plain": [
              "5"
            ]
          },
          "metadata": {},
          "execution_count": 18
        }
      ]
    },
    {
      "cell_type": "markdown",
      "source": [
        "# Задача №4\n",
        "Декоратор, рассчитывающий среднее значение выполнения функции за 1000 запусков"
      ],
      "metadata": {
        "id": "-Z4lqjj-8c4c"
      }
    },
    {
      "cell_type": "code",
      "source": [
        "import time"
      ],
      "metadata": {
        "id": "bf00BDGG8Zj4"
      },
      "execution_count": 19,
      "outputs": []
    },
    {
      "cell_type": "code",
      "source": [
        "def times(func):\n",
        "  ans = 0\n",
        "\n",
        "  @functools.wraps(func)\n",
        "  def inner(*args, **kwargs):\n",
        "\n",
        "    for _ in range(1000):\n",
        "      start = time.perf_counter()\n",
        "      res = func(*args, **kwargs)\n",
        "      ans = time.perf_counter() - start\n",
        "\n",
        "    return f\"Среднее время выполнения функции: {ans / 1000} мс\"\n",
        "  return inner"
      ],
      "metadata": {
        "id": "SYbwsB1882z4"
      },
      "execution_count": 20,
      "outputs": []
    },
    {
      "cell_type": "code",
      "source": [
        "@times\n",
        "def count(x):\n",
        "  return x ** 3"
      ],
      "metadata": {
        "id": "GkUpAYV_84gl"
      },
      "execution_count": 21,
      "outputs": []
    },
    {
      "cell_type": "code",
      "source": [
        "count(4)"
      ],
      "metadata": {
        "colab": {
          "base_uri": "https://localhost:8080/",
          "height": 36
        },
        "id": "FPiRsZhj86T9",
        "outputId": "174142f2-a102-421f-abff-19bf14379d76"
      },
      "execution_count": 22,
      "outputs": [
        {
          "output_type": "execute_result",
          "data": {
            "text/plain": [
              "'Среднее время выполнения функции: 4.900000476482092e-10 мс'"
            ],
            "application/vnd.google.colaboratory.intrinsic+json": {
              "type": "string"
            }
          },
          "metadata": {},
          "execution_count": 22
        }
      ]
    },
    {
      "cell_type": "markdown",
      "source": [
        "# Задача №5\n",
        "Декоратор, выводящийся тип и значение входных и выходных параметров"
      ],
      "metadata": {
        "id": "g4mto5Jq9IV8"
      }
    },
    {
      "cell_type": "code",
      "source": [
        "def dec_type(func):\n",
        "\n",
        "  @functools.wraps(func)\n",
        "  def inner(*args, **kwargs):\n",
        "\n",
        "    means = args + tuple(sorted(kwargs.values()))\n",
        "\n",
        "    for mean in means:\n",
        "      print(mean, type(mean))\n",
        "\n",
        "    res = func(*args, **kwargs)\n",
        "    print(res, type(res))\n",
        "\n",
        "    return res\n",
        "\n",
        "  return inner"
      ],
      "metadata": {
        "id": "MpfFPR5Z89cX"
      },
      "execution_count": 23,
      "outputs": []
    },
    {
      "cell_type": "code",
      "source": [
        "@dec_type\n",
        "def counter(x):\n",
        "  return x + 1"
      ],
      "metadata": {
        "id": "l2xxWgeD9Toq"
      },
      "execution_count": 24,
      "outputs": []
    },
    {
      "cell_type": "code",
      "source": [
        "counter(7)"
      ],
      "metadata": {
        "colab": {
          "base_uri": "https://localhost:8080/"
        },
        "id": "T244hMsR9VQd",
        "outputId": "e00621ca-6260-4b1f-ac01-632d8767089e"
      },
      "execution_count": 25,
      "outputs": [
        {
          "output_type": "stream",
          "name": "stdout",
          "text": [
            "7 <class 'int'>\n",
            "8 <class 'int'>\n"
          ]
        },
        {
          "output_type": "execute_result",
          "data": {
            "text/plain": [
              "8"
            ]
          },
          "metadata": {},
          "execution_count": 25
        }
      ]
    },
    {
      "cell_type": "code",
      "source": [],
      "metadata": {
        "id": "gN80Aodj9YBg"
      },
      "execution_count": null,
      "outputs": []
    }
  ]
}
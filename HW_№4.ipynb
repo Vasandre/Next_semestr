{
  "nbformat": 4,
  "nbformat_minor": 0,
  "metadata": {
    "colab": {
      "provenance": []
    },
    "kernelspec": {
      "name": "python3",
      "display_name": "Python 3"
    },
    "language_info": {
      "name": "python"
    }
  },
  "cells": [
    {
      "cell_type": "markdown",
      "source": [
        "Декоратор классов с наследованием"
      ],
      "metadata": {
        "id": "fXMprbciqo94"
      }
    },
    {
      "cell_type": "code",
      "source": [
        "import functools"
      ],
      "metadata": {
        "id": "JUmaxs8MuvIw"
      },
      "execution_count": null,
      "outputs": []
    },
    {
      "cell_type": "code",
      "execution_count": null,
      "metadata": {
        "id": "mT2of8Asqibf"
      },
      "outputs": [],
      "source": [
        "def add_method(cls):\n",
        "  @functools.wraps(cls)\n",
        "  def __init__(self, x0, y0, alpha):\n",
        "    self.x = x0\n",
        "    self.y = y0\n",
        "    self.alpha = alpha\n",
        "\n",
        "  cls.__init__ = __init__\n",
        "\n",
        "  return cls\n"
      ]
    },
    {
      "cell_type": "code",
      "source": [
        "@add_method\n",
        "class Train:\n",
        "  pass"
      ],
      "metadata": {
        "id": "Q1x5ORrfvWrQ"
      },
      "execution_count": null,
      "outputs": []
    },
    {
      "cell_type": "code",
      "source": [
        "my_cls = Train(2, 3, 4)"
      ],
      "metadata": {
        "id": "q4yQffgvvbkS"
      },
      "execution_count": null,
      "outputs": []
    },
    {
      "cell_type": "markdown",
      "source": [
        "Декоратор классов без наследования"
      ],
      "metadata": {
        "id": "JMIIDuq_C8Li"
      }
    },
    {
      "cell_type": "code",
      "source": [
        "def add(cls):\n",
        "  def __init__(self, x0, y0, alpha):\n",
        "    self.x = x0\n",
        "    self.y = y0\n",
        "    self.alpha = alpha\n",
        "\n",
        "  setattr(cls, __init__.__name__, __init__)\n",
        "\n",
        "  return cls"
      ],
      "metadata": {
        "id": "GeffjKL5v1G9"
      },
      "execution_count": 1,
      "outputs": []
    },
    {
      "cell_type": "code",
      "source": [
        "@add\n",
        "class Train:\n",
        "  pass"
      ],
      "metadata": {
        "id": "wHp_3tsREPcL"
      },
      "execution_count": 3,
      "outputs": []
    },
    {
      "cell_type": "code",
      "source": [
        "my_cls = Train(2, 3, 4)"
      ],
      "metadata": {
        "id": "oWpoQbpnERD2"
      },
      "execution_count": 4,
      "outputs": []
    },
    {
      "cell_type": "code",
      "source": [],
      "metadata": {
        "id": "Tjr0z3z8EVxM"
      },
      "execution_count": null,
      "outputs": []
    }
  ]
}
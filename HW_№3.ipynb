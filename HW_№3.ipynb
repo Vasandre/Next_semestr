{
  "nbformat": 4,
  "nbformat_minor": 0,
  "metadata": {
    "colab": {
      "provenance": []
    },
    "kernelspec": {
      "name": "python3",
      "display_name": "Python 3"
    },
    "language_info": {
      "name": "python"
    }
  },
  "cells": [
    {
      "cell_type": "code",
      "source": [
        "import functools"
      ],
      "metadata": {
        "id": "liIeTkZq1uIP"
      },
      "execution_count": null,
      "outputs": []
    },
    {
      "cell_type": "markdown",
      "source": [
        "# Задача №1\n",
        "Декоратор, реализующий проверку по заданному правилу входных параметров"
      ],
      "metadata": {
        "id": "cLNjZAuC07qM"
      }
    },
    {
      "cell_type": "code",
      "source": [
        "def pre(condition):\n",
        "  def decorator(func):\n",
        "\n",
        "    @functools.wraps(func)\n",
        "    def inner(*args, **kwargs):\n",
        "\n",
        "      assert condition(*args, *kwargs), \"Введены некорректные данные!\"\n",
        "\n",
        "      result = func(*args, **kwargs)\n",
        "\n",
        "      return result\n",
        "    return inner\n",
        "  return decorator"
      ],
      "metadata": {
        "id": "Ql3xalF-09I9"
      },
      "execution_count": null,
      "outputs": []
    },
    {
      "cell_type": "code",
      "source": [
        "@pre(lambda x: type(x) == str)\n",
        "def speech(word):\n",
        "  return f\"Вы написали следующее слово - {word}\""
      ],
      "metadata": {
        "id": "2kMJDBHH1Yxt"
      },
      "execution_count": null,
      "outputs": []
    },
    {
      "cell_type": "code",
      "source": [
        "speech(\"волкодав\")"
      ],
      "metadata": {
        "colab": {
          "base_uri": "https://localhost:8080/",
          "height": 35
        },
        "id": "6W-AZmZr1pHP",
        "outputId": "e7127a20-5b53-4a7e-86f1-d33569096483"
      },
      "execution_count": null,
      "outputs": [
        {
          "output_type": "execute_result",
          "data": {
            "text/plain": [
              "'Вы написали следующее слово - волкодав'"
            ],
            "application/vnd.google.colaboratory.intrinsic+json": {
              "type": "string"
            }
          },
          "metadata": {},
          "execution_count": 6
        }
      ]
    },
    {
      "cell_type": "code",
      "source": [
        "speech(2)"
      ],
      "metadata": {
        "colab": {
          "base_uri": "https://localhost:8080/",
          "height": 298
        },
        "id": "G2xwJUub1yL3",
        "outputId": "c052dd50-ea5e-4c27-a462-4cbb40a7f555"
      },
      "execution_count": null,
      "outputs": [
        {
          "output_type": "error",
          "ename": "AssertionError",
          "evalue": "ignored",
          "traceback": [
            "\u001b[0;31m---------------------------------------------------------------------------\u001b[0m",
            "\u001b[0;31mAssertionError\u001b[0m                            Traceback (most recent call last)",
            "\u001b[0;32m<ipython-input-7-1b22556331ba>\u001b[0m in \u001b[0;36m<cell line: 1>\u001b[0;34m()\u001b[0m\n\u001b[0;32m----> 1\u001b[0;31m \u001b[0mspeech\u001b[0m\u001b[0;34m(\u001b[0m\u001b[0;36m2\u001b[0m\u001b[0;34m)\u001b[0m\u001b[0;34m\u001b[0m\u001b[0;34m\u001b[0m\u001b[0m\n\u001b[0m",
            "\u001b[0;32m<ipython-input-4-8372eee179ca>\u001b[0m in \u001b[0;36minner\u001b[0;34m(*args, **kwargs)\u001b[0m\n\u001b[1;32m      5\u001b[0m     \u001b[0;32mdef\u001b[0m \u001b[0minner\u001b[0m\u001b[0;34m(\u001b[0m\u001b[0;34m*\u001b[0m\u001b[0margs\u001b[0m\u001b[0;34m,\u001b[0m \u001b[0;34m**\u001b[0m\u001b[0mkwargs\u001b[0m\u001b[0;34m)\u001b[0m\u001b[0;34m:\u001b[0m\u001b[0;34m\u001b[0m\u001b[0;34m\u001b[0m\u001b[0m\n\u001b[1;32m      6\u001b[0m \u001b[0;34m\u001b[0m\u001b[0m\n\u001b[0;32m----> 7\u001b[0;31m       \u001b[0;32massert\u001b[0m \u001b[0mcondition\u001b[0m\u001b[0;34m(\u001b[0m\u001b[0;34m*\u001b[0m\u001b[0margs\u001b[0m\u001b[0;34m,\u001b[0m \u001b[0;34m*\u001b[0m\u001b[0mkwargs\u001b[0m\u001b[0;34m)\u001b[0m\u001b[0;34m,\u001b[0m \u001b[0;34m\"Введены некорректные данные!\"\u001b[0m\u001b[0;34m\u001b[0m\u001b[0;34m\u001b[0m\u001b[0m\n\u001b[0m\u001b[1;32m      8\u001b[0m \u001b[0;34m\u001b[0m\u001b[0m\n\u001b[1;32m      9\u001b[0m       \u001b[0mresult\u001b[0m \u001b[0;34m=\u001b[0m \u001b[0mfunc\u001b[0m\u001b[0;34m(\u001b[0m\u001b[0;34m*\u001b[0m\u001b[0margs\u001b[0m\u001b[0;34m,\u001b[0m \u001b[0;34m**\u001b[0m\u001b[0mkwargs\u001b[0m\u001b[0;34m)\u001b[0m\u001b[0;34m\u001b[0m\u001b[0;34m\u001b[0m\u001b[0m\n",
            "\u001b[0;31mAssertionError\u001b[0m: Введены некорректные данные!"
          ]
        }
      ]
    },
    {
      "cell_type": "markdown",
      "source": [
        "# Задача №2\n",
        "Декоратор, реализующий проверку по заданному правилу выходных аргументов"
      ],
      "metadata": {
        "id": "f3dKtWdR16uk"
      }
    },
    {
      "cell_type": "code",
      "source": [
        "def post(condition):\n",
        "  def decorator(func):\n",
        "\n",
        "    @functools.wraps(func)\n",
        "\n",
        "    def inner(*args, **kwargs):\n",
        "      res = func(*args, **kwargs)\n",
        "\n",
        "      assert condition(res), \"Функция возвращает некооректное значение!\"\n",
        "\n",
        "      return res\n",
        "\n",
        "    return inner\n",
        "\n",
        "  return decorator"
      ],
      "metadata": {
        "id": "Fs8Q31at1zuy"
      },
      "execution_count": null,
      "outputs": []
    },
    {
      "cell_type": "code",
      "source": [
        "@post(lambda x: 3 <= x < 20)\n",
        "def counter(n):\n",
        "  ans = 0\n",
        "  for i in range(n):\n",
        "    ans += i\n",
        "\n",
        "  return ans"
      ],
      "metadata": {
        "id": "6AgydJsl19_d"
      },
      "execution_count": null,
      "outputs": []
    },
    {
      "cell_type": "code",
      "source": [
        "counter(6)"
      ],
      "metadata": {
        "colab": {
          "base_uri": "https://localhost:8080/"
        },
        "id": "PivkolZi1_yS",
        "outputId": "30836458-c892-4ba3-b564-d28ab2ad55dd"
      },
      "execution_count": null,
      "outputs": [
        {
          "output_type": "execute_result",
          "data": {
            "text/plain": [
              "15"
            ]
          },
          "metadata": {},
          "execution_count": 10
        }
      ]
    },
    {
      "cell_type": "code",
      "source": [
        "counter(7)"
      ],
      "metadata": {
        "colab": {
          "base_uri": "https://localhost:8080/",
          "height": 298
        },
        "id": "tlMviflx2BeW",
        "outputId": "7649725b-f7df-4fd1-cc06-e0e83cc83482"
      },
      "execution_count": null,
      "outputs": [
        {
          "output_type": "error",
          "ename": "AssertionError",
          "evalue": "ignored",
          "traceback": [
            "\u001b[0;31m---------------------------------------------------------------------------\u001b[0m",
            "\u001b[0;31mAssertionError\u001b[0m                            Traceback (most recent call last)",
            "\u001b[0;32m<ipython-input-11-b28fef9f2740>\u001b[0m in \u001b[0;36m<cell line: 1>\u001b[0;34m()\u001b[0m\n\u001b[0;32m----> 1\u001b[0;31m \u001b[0mcounter\u001b[0m\u001b[0;34m(\u001b[0m\u001b[0;36m7\u001b[0m\u001b[0;34m)\u001b[0m\u001b[0;34m\u001b[0m\u001b[0;34m\u001b[0m\u001b[0m\n\u001b[0m",
            "\u001b[0;32m<ipython-input-8-486cdaca04f0>\u001b[0m in \u001b[0;36minner\u001b[0;34m(*args, **kwargs)\u001b[0m\n\u001b[1;32m      7\u001b[0m       \u001b[0mres\u001b[0m \u001b[0;34m=\u001b[0m \u001b[0mfunc\u001b[0m\u001b[0;34m(\u001b[0m\u001b[0;34m*\u001b[0m\u001b[0margs\u001b[0m\u001b[0;34m,\u001b[0m \u001b[0;34m**\u001b[0m\u001b[0mkwargs\u001b[0m\u001b[0;34m)\u001b[0m\u001b[0;34m\u001b[0m\u001b[0;34m\u001b[0m\u001b[0m\n\u001b[1;32m      8\u001b[0m \u001b[0;34m\u001b[0m\u001b[0m\n\u001b[0;32m----> 9\u001b[0;31m       \u001b[0;32massert\u001b[0m \u001b[0mcondition\u001b[0m\u001b[0;34m(\u001b[0m\u001b[0mres\u001b[0m\u001b[0;34m)\u001b[0m\u001b[0;34m,\u001b[0m \u001b[0;34m\"Функция возвращает некооректное значение!\"\u001b[0m\u001b[0;34m\u001b[0m\u001b[0;34m\u001b[0m\u001b[0m\n\u001b[0m\u001b[1;32m     10\u001b[0m \u001b[0;34m\u001b[0m\u001b[0m\n\u001b[1;32m     11\u001b[0m       \u001b[0;32mreturn\u001b[0m \u001b[0mres\u001b[0m\u001b[0;34m\u001b[0m\u001b[0;34m\u001b[0m\u001b[0m\n",
            "\u001b[0;31mAssertionError\u001b[0m: Функция возвращает некооректное значение!"
          ]
        }
      ]
    },
    {
      "cell_type": "markdown",
      "source": [
        "# Задача №3\n",
        "Настраиваемый декоратор, обеспечивающий мемоизацию"
      ],
      "metadata": {
        "id": "uhIbNYMT2Ea1"
      }
    },
    {
      "cell_type": "code",
      "source": [],
      "metadata": {
        "id": "L1p1CiKQ2DOJ"
      },
      "execution_count": null,
      "outputs": []
    },
    {
      "cell_type": "markdown",
      "source": [
        "# Задача №4\n",
        "Декоратор, определяющий среднее выполнение времени функции по результатам n запусков"
      ],
      "metadata": {
        "id": "bF2Te2Fp2tPd"
      }
    },
    {
      "cell_type": "code",
      "source": [
        "import time"
      ],
      "metadata": {
        "id": "f8zw4sWq2xSR"
      },
      "execution_count": null,
      "outputs": []
    },
    {
      "cell_type": "code",
      "source": [
        "def time_dec(n):\n",
        "\n",
        "  def decorator(func):\n",
        "\n",
        "    @functools.wraps(func)\n",
        "    def inner(*args, **kwargs):\n",
        "      mid_time = 0\n",
        "      res = 0\n",
        "      for _ in range(n):\n",
        "        start = time.perf_counter()\n",
        "        res = func(*args, **kwargs)\n",
        "        mid_time += time.perf_counter() - start\n",
        "      print(f\"Среднее время выполнения функции за {n} запусков - {mid_time / n} мс\")\n",
        "\n",
        "      return res\n",
        "\n",
        "    return inner\n",
        "  return decorator"
      ],
      "metadata": {
        "id": "ljW-GU4R4K0O"
      },
      "execution_count": null,
      "outputs": []
    },
    {
      "cell_type": "code",
      "source": [
        "@time_dec(2)\n",
        "def substract(x, y):\n",
        "  return x + y"
      ],
      "metadata": {
        "id": "bDJWVE4Y4Mih"
      },
      "execution_count": null,
      "outputs": []
    },
    {
      "cell_type": "code",
      "source": [
        "substract(20, 300)"
      ],
      "metadata": {
        "colab": {
          "base_uri": "https://localhost:8080/"
        },
        "id": "uMvQrJ534OqO",
        "outputId": "30fd36a4-67f7-477d-ffd2-840d84d6d626"
      },
      "execution_count": null,
      "outputs": [
        {
          "output_type": "stream",
          "name": "stdout",
          "text": [
            "Среднее время выполнения функции за 2 запусков - 1.1939999922105926e-06 мс\n"
          ]
        },
        {
          "output_type": "execute_result",
          "data": {
            "text/plain": [
              "320"
            ]
          },
          "metadata": {},
          "execution_count": 15
        }
      ]
    },
    {
      "cell_type": "code",
      "source": [],
      "metadata": {
        "id": "1bWnah1t4QSL"
      },
      "execution_count": null,
      "outputs": []
    }
  ]
}